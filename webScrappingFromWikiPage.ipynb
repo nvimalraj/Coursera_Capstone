{
 "metadata": {
  "language_info": {
   "codemirror_mode": {
    "name": "ipython",
    "version": 3
   },
   "file_extension": ".py",
   "mimetype": "text/x-python",
   "name": "python",
   "nbconvert_exporter": "python",
   "pygments_lexer": "ipython3",
   "version": "3.8.5-final"
  },
  "orig_nbformat": 2,
  "kernelspec": {
   "name": "Python 3.8.5 64-bit ('venv')",
   "display_name": "Python 3.8.5 64-bit ('venv')",
   "metadata": {
    "interpreter": {
     "hash": "aa150fd0694d7ddbdb8290c0c0b12754f84a38019e1e98fb6a88ddc84319666c"
    }
   }
  }
 },
 "nbformat": 4,
 "nbformat_minor": 2,
 "cells": [
  {
   "source": [
    "Importing necessary libraries. We are using BeautifulSoup library to parse thru the Wiki HTML file"
   ],
   "cell_type": "markdown",
   "metadata": {}
  },
  {
   "cell_type": "code",
   "execution_count": 5,
   "metadata": {},
   "outputs": [],
   "source": [
    "import pandas as pd\n",
    "import requests\n",
    "import lxml\n",
    "from bs4 import BeautifulSoup\n",
    "from bs4 import NavigableString"
   ]
  },
  {
   "source": [
    "Setup URL to download data from the Wikipedia page for Canada Postal codes from https://en.wikipedia.org/wiki/List_of_postal_codes_of_Canada:_M"
   ],
   "cell_type": "markdown",
   "metadata": {}
  },
  {
   "cell_type": "code",
   "execution_count": 3,
   "metadata": {},
   "outputs": [],
   "source": [
    "url = \"https://en.wikipedia.org/wiki/List_of_postal_codes_of_Canada:_M\"\n",
    "page = requests.get(url).text\n",
    "soup = BeautifulSoup(page, 'html.parser')"
   ]
  },
  {
   "source": [
    "Select the wikitable section in the HTML output from the Wikipedia page and iterate thru the and tables of the Table body. Performing following steps to prepare the dataframe.\n",
    "\n",
    "1. Ignoring any rows which has the Borough is set to \"Not assigned\"\n",
    "2. Splitting any cells when it contains comma separated values into multiple rows (applying this for both Borough and Neighbourhood)\n",
    "3. Any Neighbourhood has \"Not assigned\" is set to same as it's Borough"
   ],
   "cell_type": "markdown",
   "metadata": {}
  },
  {
   "cell_type": "code",
   "execution_count": 6,
   "metadata": {},
   "outputs": [
    {
     "output_type": "execute_result",
     "data": {
      "text/plain": [
       "  Postal Code           Borough     Neighbourhood\n",
       "0         M3A        North York         Parkwoods\n",
       "1         M4A        North York  Victoria Village\n",
       "2         M5A  Downtown Toronto       Regent Park\n",
       "3         M5A  Downtown Toronto      Harbourfront\n",
       "4         M6A        North York    Lawrence Manor"
      ],
      "text/html": "<div>\n<style scoped>\n    .dataframe tbody tr th:only-of-type {\n        vertical-align: middle;\n    }\n\n    .dataframe tbody tr th {\n        vertical-align: top;\n    }\n\n    .dataframe thead th {\n        text-align: right;\n    }\n</style>\n<table border=\"1\" class=\"dataframe\">\n  <thead>\n    <tr style=\"text-align: right;\">\n      <th></th>\n      <th>Postal Code</th>\n      <th>Borough</th>\n      <th>Neighbourhood</th>\n    </tr>\n  </thead>\n  <tbody>\n    <tr>\n      <th>0</th>\n      <td>M3A</td>\n      <td>North York</td>\n      <td>Parkwoods</td>\n    </tr>\n    <tr>\n      <th>1</th>\n      <td>M4A</td>\n      <td>North York</td>\n      <td>Victoria Village</td>\n    </tr>\n    <tr>\n      <th>2</th>\n      <td>M5A</td>\n      <td>Downtown Toronto</td>\n      <td>Regent Park</td>\n    </tr>\n    <tr>\n      <th>3</th>\n      <td>M5A</td>\n      <td>Downtown Toronto</td>\n      <td>Harbourfront</td>\n    </tr>\n    <tr>\n      <th>4</th>\n      <td>M6A</td>\n      <td>North York</td>\n      <td>Lawrence Manor</td>\n    </tr>\n  </tbody>\n</table>\n</div>"
     },
     "metadata": {},
     "execution_count": 6
    }
   ],
   "source": [
    "soup.select(\".wikitable\")\n",
    "postal_list = []\n",
    "#print(len(soup.tbody))\n",
    "for child in soup.tbody:\n",
    "    if type(child) != NavigableString:\n",
    "        cell1 = child.contents[1].string.strip()\n",
    "        cell2 = child.contents[3].string.strip()\n",
    "        cell3 = child.contents[5].string.strip()\n",
    "        if cell2 != \"Not assigned\":\n",
    "            for v2 in cell2.split(\", \"):\n",
    "                for v3 in cell3.split(\", \"):\n",
    "                    if v3 == \"Not assigned\":\n",
    "                        v3 = v2\n",
    "                    postal_list.append([cell1, v2, v3])\n",
    "postal_df = pd.DataFrame(postal_list[1:], columns=postal_list[0])\n",
    "postal_df.head()"
   ]
  },
  {
   "cell_type": "code",
   "execution_count": 7,
   "metadata": {},
   "outputs": [
    {
     "output_type": "execute_result",
     "data": {
      "text/plain": [
       "(217, 3)"
      ]
     },
     "metadata": {},
     "execution_count": 7
    }
   ],
   "source": [
    "postal_df.shape"
   ]
  },
  {
   "cell_type": "code",
   "execution_count": null,
   "metadata": {},
   "outputs": [],
   "source": []
  }
 ]
}